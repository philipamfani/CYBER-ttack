{
 "cells": [
  {
   "cell_type": "code",
   "execution_count": null,
   "id": "803fba46-6613-4223-8d8c-abd605f32bb0",
   "metadata": {},
   "outputs": [],
   "source": [
    "import numpy as np\n",
    "import pandas as pd\n",
    "import matplotlib.pyplot as plt\n",
    "import seaborn as sb"
   ]
  },
  {
   "cell_type": "code",
   "execution_count": null,
   "id": "fb017e35-50db-4468-b4ef-cdecbffe47f0",
   "metadata": {},
   "outputs": [],
   "source": [
    "base_color = sb.color_palette\n",
    "year_order = df['year'].value_counts().index\n",
    "location_order = df['Location'].value_counts().index\n",
    "motive_order = df['Motive'].value_counts().index\n",
    "industry_order = df['Industry'].value_counts().index"
   ]
  },
  {
   "cell_type": "code",
   "execution_count": null,
   "id": "846bbd18-0323-4068-8c1f-71c4216e26ed",
   "metadata": {},
   "outputs": [],
   "source": [
    "plt.figure(figsize=(20,8))\n",
    "plt.title(\"Attack Frequency by year\")\n",
    "sb.countplot(data=df, y='year', color=base_color, order=year_order)\n",
    "plt.xticks(rotation=45); "
   ]
  },
  {
   "cell_type": "code",
   "execution_count": null,
   "id": "16c7bbb1-4212-490e-9b26-254406816b17",
   "metadata": {},
   "outputs": [],
   "source": [
    "plt.figure(figsize=(10,6))\n",
    "plt.title(\"Attack Frequency by industry\")\n",
    "sb.countplot(data=df,y='industry', color=base_color, order=year_order)\n",
    "plt.xticks(rotation=15)"
   ]
  },
  {
   "cell_type": "code",
   "execution_count": null,
   "id": "cc4d72c2-362c-4ae1-9126-aec4a217ef82",
   "metadata": {},
   "outputs": [],
   "source": [
    "plt.figure(figsize=(10,5))\n",
    "plt.title(\"Attack Frequency by Motive\")\n",
    "sb.countplot(data=df, y='Motive', color=base_color, order=motive_order)\n",
    "plt.xticks(rotation=15);"
   ]
  }
 ],
 "metadata": {
  "kernelspec": {
   "display_name": "Python 3 (ipykernel)",
   "language": "python",
   "name": "python3"
  },
  "language_info": {
   "codemirror_mode": {
    "name": "ipython",
    "version": 3
   },
   "file_extension": ".py",
   "mimetype": "text/x-python",
   "name": "python",
   "nbconvert_exporter": "python",
   "pygments_lexer": "ipython3",
   "version": "3.12.4"
  }
 },
 "nbformat": 4,
 "nbformat_minor": 5
}
